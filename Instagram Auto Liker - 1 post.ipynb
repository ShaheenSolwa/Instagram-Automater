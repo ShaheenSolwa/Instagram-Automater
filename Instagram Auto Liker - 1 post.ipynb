{
 "cells": [
  {
   "cell_type": "code",
   "execution_count": 28,
   "metadata": {},
   "outputs": [],
   "source": [
    "from selenium import webdriver\n",
    "from time import sleep\n",
    "from selenium.webdriver.common.action_chains import ActionChains"
   ]
  },
  {
   "cell_type": "code",
   "execution_count": 44,
   "metadata": {},
   "outputs": [],
   "source": [
    "class InstaBot():\n",
    "    def __init__(self, username, password):\n",
    "        self.driver = webdriver.Chrome(r'C:\\Users\\shahe\\chromedriver.exe')\n",
    "        self.username = username\n",
    "        self.password = password\n",
    "        self.driver.get('https://instagram.com')\n",
    "        sleep(5)\n",
    "        self.driver.find_element_by_xpath(\"/html/body/div[1]/section/main/article/div[2]/div[1]/div/form/div[1]/button\").click()\n",
    "        self.driver.find_element_by_xpath(\"/html/body/div[1]/div[3]/div[1]/div/div/div[2]/div[1]/form/div/div[1]/input\").send_keys(username)\n",
    "        self.driver.find_element_by_xpath(\"/html/body/div[1]/div[3]/div[1]/div/div/div[2]/div[1]/form/div/div[2]/input\").send_keys(password)\n",
    "        self.driver.find_element_by_xpath(\"/html/body/div[1]/div[3]/div[1]/div/div/div[2]/div[1]/form/div/div[3]/button\").click()\n",
    "        sleep(3)\n",
    "        self.driver.find_element_by_xpath(\"//button[contains(text(), 'Not Now')]\").click()\n",
    "        sleep(3)\n",
    "        \n",
    "    def liker(self):\n",
    "       # self.driver.find_element_by_xpath(\"/html/body/div[1]/section/main/section/div[2]/div[1]/div/article[1]\")\n",
    "       # self.driver.find_element_by_xpath(\"/html/body/div[1]/section/main/section/div[2]/div[1]/div/article[1]/div[2]\")\n",
    "       # self.driver.find_element_by_xpath(\"/html/body/div[1]/section/main/section/div[2]/div[1]/div/article[1]/div[2]/section[1]/span[1]/button\").click()    \n",
    "            element = self.driver.find_element_by_class_name(\"wpO6b\")\n",
    "            actions = ActionChains(self.driver)\n",
    "            actions.move_to_element(element).perform()\n",
    "            self.driver.find_element_by_class_name(\"wpO6b\").click()"
   ]
  },
  {
   "cell_type": "code",
   "execution_count": 45,
   "metadata": {},
   "outputs": [],
   "source": [
    "bot = InstaBot(\"username\", \"password\")\n",
    "bot.liker()"
   ]
  },
  {
   "cell_type": "code",
   "execution_count": null,
   "metadata": {},
   "outputs": [],
   "source": []
  },
  {
   "cell_type": "code",
   "execution_count": null,
   "metadata": {},
   "outputs": [],
   "source": []
  }
 ],
 "metadata": {
  "kernelspec": {
   "display_name": "Python 3",
   "language": "python",
   "name": "python3"
  },
  "language_info": {
   "codemirror_mode": {
    "name": "ipython",
    "version": 3
   },
   "file_extension": ".py",
   "mimetype": "text/x-python",
   "name": "python",
   "nbconvert_exporter": "python",
   "pygments_lexer": "ipython3",
   "version": "3.7.1"
  }
 },
 "nbformat": 4,
 "nbformat_minor": 2
}
