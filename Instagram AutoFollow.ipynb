{
 "cells": [
  {
   "cell_type": "code",
   "execution_count": 1,
   "metadata": {},
   "outputs": [],
   "source": [
    "from selenium import webdriver\n",
    "from time import sleep\n",
    "from selenium.webdriver.common.keys import Keys"
   ]
  },
  {
   "cell_type": "code",
   "execution_count": 14,
   "metadata": {},
   "outputs": [],
   "source": [
    "class InstaFollowBot():\n",
    "    def __init__(self, username, password):\n",
    "        self.driver = webdriver.Chrome(r'C:\\Users\\shahe\\chromedriver.exe')\n",
    "        self.username = username\n",
    "        self.password = password\n",
    "        self.driver.get('https://instagram.com')\n",
    "        sleep(5)\n",
    "        self.driver.find_element_by_xpath(\"/html/body/div[1]/section/main/article/div[2]/div[1]/div/form/div[1]/button\").click()\n",
    "        self.driver.find_element_by_xpath(\"/html/body/div[1]/div[3]/div[1]/div/div/div[2]/div[1]/form/div/div[1]/input\").send_keys(username)\n",
    "        self.driver.find_element_by_xpath(\"/html/body/div[1]/div[3]/div[1]/div/div/div[2]/div[1]/form/div/div[2]/input\").send_keys(password)\n",
    "        self.driver.find_element_by_xpath(\"/html/body/div[1]/div[3]/div[1]/div/div/div[2]/div[1]/form/div/div[3]/button\").click()\n",
    "        sleep(3)\n",
    "        self.driver.find_element_by_xpath(\"//button[contains(text(), 'Not Now')]\").click()\n",
    "        sleep(3)\n",
    "    \n",
    "    def look_for_page_via_search(self):\n",
    "        #perform lookups\n",
    "        print(\"hello\")\n",
    "            \n",
    "    def look_in_suggested_bar_1(self):\n",
    "        self.driver.find_element_by_xpath(\"/html/body/div[1]/section/nav/div[2]/div/div/div[3]/div/div[1]/a\").click()\n",
    "        sleep(3)\n",
    "        self.driver.find_element_by_xpath(\"/html/body/div[1]/section/main/div/div\")\n",
    "        self.driver.find_element_by_xpath(\"/html/body/div[1]/section/main/div/div/h2\")\n",
    "        self.driver.find_element_by_xpath(\"/html/body/div[1]/section/main/div/div/h2/a\").click()\n",
    "        sleep(3)\n",
    "        self.driver.find_element_by_xpath(\"/html/body/div[1]/section/main/div/div[2]/div/div/div[4]\")\n",
    "        self.driver.find_element_by_xpath(\"/html/body/div[1]/section/main/div/div[2]/div/div/div[4]/div[3]\")\n",
    "        self.driver.find_element_by_xpath(\"/html/body/div[1]/section/main/div/div[2]/div/div/div[4]/div[3]/button\").click()\n",
    "    \n",
    "    def look_in_suggested_bar(self):\n",
    "        self.driver.find_element_by_xpath(\"/html/body/div[1]/section/nav/div[2]/div/div/div[3]/div/div[1]/a\").click()\n",
    "        sleep(3)\n",
    "        self.driver.find_element_by_xpath(\"/html/body/div[1]/section/main/div/div\")\n",
    "        self.driver.find_element_by_xpath(\"/html/body/div[1]/section/main/div/div/h2\")\n",
    "        self.driver.find_element_by_xpath(\"/html/body/div[1]/section/main/div/div/h2/a\").click()\n",
    "        sleep(3)\n",
    "        name = \"shaheen solwa\"\n",
    "        if (name in self.driver.page_source):\n",
    "            self.driver.find_element_by_xpath(\"/html/body/div[1]/section/main/div/div[2]/div/div/div[4]\")\n",
    "            self.driver.find_element_by_xpath(\"/html/body/div[1]/section/main/div/div[2]/div/div/div[4]/div[3]\")\n",
    "            self.driver.find_element_by_xpath(\"/html/body/div[1]/section/main/div/div[2]/div/div/div[4]/div[3]/button\").click()\n",
    "        else:\n",
    "            self.driver.find_element_by_xpath(\"/html/body/div[1]/section/nav/div[2]/div/div/div[1]/a/div\")\n",
    "            self.driver.find_element_by_xpath(\"/html/body/div[1]/section/nav/div[2]/div/div/div[1]/a/div/div[2]\")\n",
    "            self.driver.find_element_by_xpath(\"/html/body/div[1]/section/nav/div[2]/div/div/div[1]/a/div/div[2]/img\").click()\n",
    "            \n",
    "        \n",
    "   
    "        
    "        
   ]
  },
  {
   "cell_type": "code",
   "execution_count": 15,
   "metadata": {},
   "outputs": [],
   "source": [
    "bot = InstaFollowBot(\"username\",\"password\")\n",
    "bot.look_in_suggested_bar()"
   ]
  },
  {
   "cell_type": "code",
   "execution_count": null,
   "metadata": {},
   "outputs": [],
   "source": []
  }
 ],
 "metadata": {
  "kernelspec": {
   "display_name": "Python 3",
   "language": "python",
   "name": "python3"
  },
  "language_info": {
   "codemirror_mode": {
    "name": "ipython",
    "version": 3
   },
   "file_extension": ".py",
   "mimetype": "text/x-python",
   "name": "python",
   "nbconvert_exporter": "python",
   "pygments_lexer": "ipython3",
   "version": "3.7.1"
  }
 },
 "nbformat": 4,
 "nbformat_minor": 2
}
